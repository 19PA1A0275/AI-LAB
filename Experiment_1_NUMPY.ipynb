{
  "nbformat": 4,
  "nbformat_minor": 0,
  "metadata": {
    "colab": {
      "name": "Experiment-1.NUMPY.ipynb",
      "provenance": [],
      "authorship_tag": "ABX9TyPu6s+RW9KRmr262pnE+KrF",
      "include_colab_link": true
    },
    "kernelspec": {
      "name": "python3",
      "display_name": "Python 3"
    }
  },
  "cells": [
    {
      "cell_type": "markdown",
      "metadata": {
        "id": "view-in-github",
        "colab_type": "text"
      },
      "source": [
        "<a href=\"https://colab.research.google.com/github/19PA1A0275/AI-LAB/blob/master/Experiment_1_NUMPY.ipynb\" target=\"_parent\"><img src=\"https://colab.research.google.com/assets/colab-badge.svg\" alt=\"Open In Colab\"/></a>"
      ]
    },
    {
      "cell_type": "markdown",
      "metadata": {
        "id": "cP0fO6S45je1",
        "colab_type": "text"
      },
      "source": [
        " EXPERIMENT-1"
      ]
    },
    {
      "cell_type": "markdown",
      "metadata": {
        "id": "Y48UIqTp5ovA",
        "colab_type": "text"
      },
      "source": [
        "1) NUMPY"
      ]
    },
    {
      "cell_type": "markdown",
      "metadata": {
        "id": "02HX2mSG5rrp",
        "colab_type": "text"
      },
      "source": [
        "I) Different ways to create numpy arrays."
      ]
    },
    {
      "cell_type": "code",
      "metadata": {
        "id": "akcpdybM6quL",
        "colab_type": "code",
        "colab": {
          "base_uri": "https://localhost:8080/",
          "height": 34
        },
        "outputId": "df461fbf-5bf2-48e4-ab9c-6fdd0d6fce9c"
      },
      "source": [
        "import numpy as np\n",
        "a = np.array([2,6,9])\n",
        "print (a)"
      ],
      "execution_count": 1,
      "outputs": [
        {
          "output_type": "stream",
          "text": [
            "[2 6 9]\n"
          ],
          "name": "stdout"
        }
      ]
    },
    {
      "cell_type": "code",
      "metadata": {
        "id": "yDsl6XfB7SyH",
        "colab_type": "code",
        "colab": {
          "base_uri": "https://localhost:8080/",
          "height": 51
        },
        "outputId": "3d203b68-26f8-4295-ac62-81deff027bc8"
      },
      "source": [
        "a = np.array([[1,2],[3,4]])\n",
        "print (a)"
      ],
      "execution_count": 2,
      "outputs": [
        {
          "output_type": "stream",
          "text": [
            "[[1 2]\n",
            " [3 4]]\n"
          ],
          "name": "stdout"
        }
      ]
    },
    {
      "cell_type": "markdown",
      "metadata": {
        "id": "mZZ4yu0d72fF",
        "colab_type": "text"
      },
      "source": [
        "ii) Add, Remove , modify elements in an array."
      ]
    },
    {
      "cell_type": "code",
      "metadata": {
        "id": "Rr2__JC18Egu",
        "colab_type": "code",
        "colab": {
          "base_uri": "https://localhost:8080/",
          "height": 34
        },
        "outputId": "04ba3094-883e-4cbe-db8d-8de58623e24f"
      },
      "source": [
        "newArray = np.append(a,[44,36,48])\n",
        "print(newArray)"
      ],
      "execution_count": 3,
      "outputs": [
        {
          "output_type": "stream",
          "text": [
            "[ 1  2  3  4 44 36 48]\n"
          ],
          "name": "stdout"
        }
      ]
    },
    {
      "cell_type": "code",
      "metadata": {
        "id": "itVRiqiP8gE7",
        "colab_type": "code",
        "colab": {
          "base_uri": "https://localhost:8080/",
          "height": 34
        },
        "outputId": "8711870f-82e9-4bc1-a81d-b27954f36f0f"
      },
      "source": [
        "import numpy as np\n",
        "l=np.array([4,6,9,3,7])\n",
        "l=np.delete(l,4)\n",
        "print(l)"
      ],
      "execution_count": 6,
      "outputs": [
        {
          "output_type": "stream",
          "text": [
            "[4 6 9 3]\n"
          ],
          "name": "stdout"
        }
      ]
    },
    {
      "cell_type": "code",
      "metadata": {
        "id": "C59rTCDk9ZUL",
        "colab_type": "code",
        "colab": {
          "base_uri": "https://localhost:8080/",
          "height": 34
        },
        "outputId": "11df7da9-ee2e-43a2-cef5-a931d052df18"
      },
      "source": [
        "b=np.array([9,6,4,1,8,5])\n",
        "b[b<2]=-1\n",
        "print(b)"
      ],
      "execution_count": 7,
      "outputs": [
        {
          "output_type": "stream",
          "text": [
            "[ 9  6  4 -1  8  5]\n"
          ],
          "name": "stdout"
        }
      ]
    },
    {
      "cell_type": "markdown",
      "metadata": {
        "id": "X3dxyogU94xo",
        "colab_type": "text"
      },
      "source": [
        " iii) Arithmetic operations on numpy array."
      ]
    },
    {
      "cell_type": "code",
      "metadata": {
        "id": "QO6Q85GV-I2L",
        "colab_type": "code",
        "colab": {
          "base_uri": "https://localhost:8080/",
          "height": 1000
        },
        "outputId": "18a5a1e6-2b80-46ea-c6f7-4d2428a2f622"
      },
      "source": [
        "import numpy as np\n",
        "v=np.random.random((8,8))\n",
        "n=np.random.random((8,8))\n",
        "sum=np.add(v,n)\n",
        "diff=np.subtract(v,n)\n",
        "prod=np.multiply(v,n)\n",
        "quo=np.divide(v,n)\n",
        "mod=np.mod(v,n)\n",
        "pow=np.power(v,n)\n",
        "print(sum)\n",
        "print(diff)\n",
        "print(prod)\n",
        "print(quo)\n",
        "print(mod)\n",
        "print(pow)"
      ],
      "execution_count": 13,
      "outputs": [
        {
          "output_type": "stream",
          "text": [
            "[[1.11055604 0.89090683 1.08593657 1.42362767 0.88510058 0.70614461\n",
            "  1.10359653 1.00542923]\n",
            " [0.52677093 1.0853333  1.44824286 1.1471786  0.34774473 0.9737489\n",
            "  1.09046038 0.44126114]\n",
            " [0.50670264 1.21577261 0.64370369 1.01194024 1.68129716 1.32233132\n",
            "  0.53495433 1.61864434]\n",
            " [0.98156832 1.54366536 1.19204317 1.08699759 1.70352655 1.24695007\n",
            "  1.06810044 1.61270597]\n",
            " [1.54334312 0.80644319 0.74218005 1.12460615 1.65213078 1.24967119\n",
            "  0.92781567 1.03680834]\n",
            " [0.71264375 1.81144121 0.62057639 1.34120816 0.61606774 1.1774068\n",
            "  0.49482648 0.44894124]\n",
            " [0.93156726 1.29688958 1.3481092  0.91474959 0.6353618  1.02880661\n",
            "  1.01171348 0.59395682]\n",
            " [1.25406633 1.16223703 0.23737996 1.16943004 0.3797014  0.26006899\n",
            "  0.59873201 0.69875853]]\n",
            "[[ 0.09285305  0.77899204  0.43865688  0.29545307 -0.07118737 -0.4589818\n",
            "   0.76452139 -0.78843314]\n",
            " [-0.13709582 -0.69027035 -0.2272434  -0.28512215 -0.27288083 -0.78804875\n",
            "   0.81360393 -0.439186  ]\n",
            " [ 0.0649379  -0.45353286  0.37910499 -0.90799603  0.22390068  0.54798765\n",
            "   0.23365389 -0.27978877]\n",
            " [-0.1378914   0.25463296  0.59836822 -0.46428808 -0.01325602  0.44542168\n",
            "  -0.17650491 -0.3301652 ]\n",
            " [ 0.26539224  0.21339152 -0.32827283 -0.85606853  0.3074952  -0.03352442\n",
            "  -0.90973153 -0.10357967]\n",
            " [-0.63973229  0.04473554 -0.21855366 -0.57622789 -0.12494573 -0.27504138\n",
            "  -0.14150859  0.12368884]\n",
            " [-0.0445367   0.69324273  0.16976957  0.28433656 -0.4665549  -0.15825714\n",
            "  -0.21484922  0.34207549]\n",
            " [ 0.31487789  0.27338489 -0.03889356  0.44672604 -0.31386715  0.20908328\n",
            "   0.54209744  0.4308925 ]]\n",
            "[[3.06178256e-01 4.67215924e-02 2.46709591e-01 4.84855803e-01\n",
            "  1.94583850e-01 7.19939817e-02 1.58358086e-01 9.73152809e-02]\n",
            " [6.46730862e-02 1.75368806e-01 5.11441955e-01 3.08681026e-01\n",
            "  1.16156113e-02 8.17915212e-02 1.31788118e-01 4.56763273e-04]\n",
            " [6.31326581e-02 3.18102748e-01 6.76584630e-02 4.98915646e-02\n",
            "  6.94157157e-01 3.62067411e-01 5.78954989e-02 6.35431938e-01]\n",
            " [2.36115581e-01 5.79516200e-01 2.65730599e-01 2.41500087e-01\n",
            "  7.25456747e-01 3.39121001e-01 2.77421144e-01 6.22952874e-01]\n",
            " [5.77868739e-01 1.51203672e-01 1.10767044e-01 1.32971418e-01\n",
            "  6.58745706e-01 3.90138547e-01 8.30761242e-03 2.66060695e-01]\n",
            " [2.46509284e-02 8.19829493e-01 8.43373395e-02 3.66700188e-01\n",
            "  9.09820075e-02 3.27659755e-01 5.62071400e-02 4.65623262e-02]\n",
            " [2.16458511e-01 3.00334272e-01 4.47144178e-01 1.88979885e-01\n",
            "  4.65027850e-02 2.58349429e-01 2.44350995e-01 5.89422654e-02]\n",
            " [3.68383571e-01 3.19013902e-01 1.37091336e-02 2.92000618e-01\n",
            "  1.14151413e-02 5.98001506e-03 1.61525952e-02 7.56487849e-02]]\n",
            "[[1.18247574e+00 1.49211644e+01 2.35538592e+00 1.52377189e+00\n",
            "  8.51117288e-01 2.12133907e-01 5.50945113e+00 1.20965852e-01]\n",
            " [5.86977903e-01 2.22495010e-01 7.28743346e-01 6.01868320e-01\n",
            "  1.20626505e-01 1.05403788e-01 6.87744265e+00 2.35691863e-03]\n",
            " [1.29399312e+00 4.56620892e-01 3.86550907e+00 5.41394066e-02\n",
            "  1.30726119e+00 2.41536033e+00 2.55096948e+00 7.05242430e-01]\n",
            " [7.53646520e-01 1.39507612e+00 3.01581089e+00 4.01415113e-01\n",
            "  9.84557139e-01 2.11143081e+00 7.16368073e-01 6.60126513e-01]\n",
            " [1.41534028e+00 1.71963886e+00 3.86665521e-01 1.35578865e-01\n",
            "  1.45736585e+00 9.47748539e-01 9.84145273e-03 8.18343102e-01]\n",
            " [5.39136006e-02 1.05064288e+00 4.79094665e-01 3.98959995e-01\n",
            "  6.62770689e-01 6.21272026e-01 5.55238746e-01 1.76057141e+00]\n",
            " [9.08745994e-01 3.29684868e+00 1.28815048e+00 1.90206434e+00\n",
            "  1.53193883e-01 7.33363699e-01 6.49672673e-01 3.71616391e+00]\n",
            " [1.67053187e+00 1.61514143e+00 7.18441622e-01 2.23626279e+00\n",
            "  9.49210439e-02 9.20164265e+00 2.01436955e+01 4.21722393e+00]]\n",
            "[[0.09285305 0.05154595 0.11501704 0.29545307 0.4069566  0.12358141\n",
            "  0.08637111 0.10849805]\n",
            " [0.19483755 0.19753148 0.61049973 0.43102822 0.03743195 0.09285007\n",
            "  0.12146283 0.00103757]\n",
            " [0.0649379  0.38111988 0.11450629 0.05197211 0.22390068 0.16081582\n",
            "  0.08300367 0.66942779]\n",
            " [0.42183846 0.25463296 0.00469326 0.31135476 0.84513527 0.04465748\n",
            "  0.44579777 0.64127039]\n",
            " [0.26539224 0.21339152 0.20695361 0.13426881 0.3074952  0.60807338\n",
            "  0.00904207 0.46661433]\n",
            " [0.03645573 0.04473554 0.20101137 0.38249014 0.24556101 0.45118271\n",
            "  0.17665894 0.12368884]\n",
            " [0.44351528 0.08959589 0.16976957 0.28433656 0.08440345 0.43527473\n",
            "  0.39843213 0.09019416]\n",
            " [0.31487789 0.27338489 0.0992432  0.08537403 0.03291713 0.00514045\n",
            "  0.00406907 0.02909346]]\n",
            "[[0.77221611 0.98995695 0.91590546 0.91816438 0.65059059 0.29580486\n",
            "  0.98850149 0.136408  ]\n",
            " [0.58105689 0.23695432 0.66139283 0.54733236 0.36079365 0.12323118\n",
            "  0.99321846 0.04857141]\n",
            " [0.75833402 0.44702511 0.91510246 0.05850331 0.96523223 0.97437864\n",
            "  0.86582715 0.6832114 ]\n",
            " [0.61685504 0.93377837 0.96767361 0.40452677 0.86551402 0.93525681\n",
            "  0.60486377 0.6494608 ]\n",
            " [0.93778989 0.81896649 0.4303652  0.1368993  0.98638262 0.72675268\n",
            "  0.01325173 0.64750314]\n",
            " [0.10653278 0.93620282 0.51010049 0.39797015 0.59436051 0.56102527\n",
            "  0.57605374 0.81595955]\n",
            " [0.67247019 0.99850828 0.8500053  0.85107442 0.25613515 0.61037199\n",
            "  0.56872822 0.90880861]\n",
            " [0.89226572 0.86299271 0.72678757 0.92588717 0.30610134 0.96371083\n",
            "  0.98422861 0.9263458 ]]\n"
          ],
          "name": "stdout"
        }
      ]
    },
    {
      "cell_type": "markdown",
      "metadata": {
        "id": "1_FK2JOL-wJt",
        "colab_type": "text"
      },
      "source": [
        " iv) Slicing and iterating of numpy arrays."
      ]
    },
    {
      "cell_type": "markdown",
      "metadata": {
        "id": "GWXxKYbJ_rFA",
        "colab_type": "text"
      },
      "source": [
        "Slicing"
      ]
    },
    {
      "cell_type": "code",
      "metadata": {
        "id": "5emotNx9_JpP",
        "colab_type": "code",
        "colab": {
          "base_uri": "https://localhost:8080/",
          "height": 34
        },
        "outputId": "c2d08a82-afb0-437f-bbf4-9281219993c9"
      },
      "source": [
        "import numpy as np\n",
        "arr=np.array([4,5,6,8,9,7])\n",
        "print(arr[2:6])"
      ],
      "execution_count": 10,
      "outputs": [
        {
          "output_type": "stream",
          "text": [
            "[6 8 9 7]\n"
          ],
          "name": "stdout"
        }
      ]
    },
    {
      "cell_type": "markdown",
      "metadata": {
        "id": "LzV9cjkU_wzB",
        "colab_type": "text"
      },
      "source": [
        " Iterating"
      ]
    },
    {
      "cell_type": "code",
      "metadata": {
        "id": "a5T8VAvq_zkg",
        "colab_type": "code",
        "colab": {
          "base_uri": "https://localhost:8080/",
          "height": 119
        },
        "outputId": "deb9670c-9283-43cf-89c5-6160603c3318"
      },
      "source": [
        "for i in arr: \n",
        "  print(i)"
      ],
      "execution_count": 11,
      "outputs": [
        {
          "output_type": "stream",
          "text": [
            "4\n",
            "5\n",
            "6\n",
            "8\n",
            "9\n",
            "7\n"
          ],
          "name": "stdout"
        }
      ]
    },
    {
      "cell_type": "markdown",
      "metadata": {
        "id": "98L8GZBKAG5X",
        "colab_type": "text"
      },
      "source": [
        " V) Matrix operations on numpy arrays."
      ]
    },
    {
      "cell_type": "code",
      "metadata": {
        "id": "yn7W3beEAO7z",
        "colab_type": "code",
        "colab": {
          "base_uri": "https://localhost:8080/",
          "height": 119
        },
        "outputId": "b32d22f5-eb0e-4b78-cfcc-52480403d27a"
      },
      "source": [
        " \n",
        "import numpy as np\n",
        "v=np.array([[5,9],[4,3]])\n",
        "i=np.array([[2,16],[1,12]])\n",
        "print(np.add(v,i))\n",
        "print(np.subtract(v,i))\n",
        "print(np.divide(v,i))"
      ],
      "execution_count": 12,
      "outputs": [
        {
          "output_type": "stream",
          "text": [
            "[[ 7 25]\n",
            " [ 5 15]]\n",
            "[[ 3 -7]\n",
            " [ 3 -9]]\n",
            "[[2.5    0.5625]\n",
            " [4.     0.25  ]]\n"
          ],
          "name": "stdout"
        }
      ]
    }
  ]
}